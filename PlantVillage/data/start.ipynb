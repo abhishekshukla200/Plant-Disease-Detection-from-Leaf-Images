{
 "cells": [
  {
   "cell_type": "code",
   "execution_count": 1,
   "id": "6b9c329f-c1f6-47ed-b550-9670ef429d9f",
   "metadata": {},
   "outputs": [],
   "source": [
    "# Step 1: Import Libraries\n",
    "import numpy as np\n",
    "import matplotlib.pyplot as plt\n",
    "import seaborn as sns\n",
    "import os\n",
    "import tensorflow as tf\n",
    "from tensorflow.keras.preprocessing.image import ImageDataGenerator\n",
    "from tensorflow.keras.applications import EfficientNetB0\n",
    "from tensorflow.keras.models import Sequential\n",
    "from tensorflow.keras.layers import Dense, Dropout, GlobalAveragePooling2D\n",
    "from tensorflow.keras.callbacks import EarlyStopping, ModelCheckpoint\n"
   ]
  },
  {
   "cell_type": "code",
   "execution_count": 2,
   "id": "d8f953af-bbdb-43ae-91e4-497479be78e6",
   "metadata": {},
   "outputs": [],
   "source": [
    "# Step 2: Dataset Path Setup (Assuming PlantVillage dataset is extracted into 'data/' folder)\n",
    "# Folder structure should look like:\n",
    "# data/\n",
    "#   train/\n",
    "#       Apple___Black_rot/\n",
    "#       Apple___healthy/\n",
    "#       ...\n",
    "#   valid/\n",
    "#       Apple___Black_rot/\n",
    "#       Apple___healthy/\n",
    "#   test/\n",
    "#       ...\n",
    "\n",
    "train_dir = \"data/train\"\n",
    "val_dir   = \"data/valid\"\n",
    "test_dir  = \"data/test\"\n",
    "\n",
    "# Image size & batch size\n",
    "IMG_SIZE = (224, 224)\n",
    "BATCH_SIZE = 32"
   ]
  },
  {
   "cell_type": "code",
   "execution_count": null,
   "id": "b957842f-a21d-4d65-a8f9-b20b705ed23e",
   "metadata": {},
   "outputs": [],
   "source": [
    "# Step 3: Data Augmentation & Generators\n",
    "train_datagen = ImageDataGenerator(\n",
    "    rescale=1./255,\n",
    "    rotation_range=20,\n",
    "    zoom_range=0.2,\n",
    "    horizontal_flip=True\n",
    ")\n",
    "\n",
    "val_datagen = ImageDataGenerator(rescale=1./255)\n",
    "test_datagen = ImageDataGenerator(rescale=1./255)\n",
    "\n",
    "train_gen = train_datagen.flow_from_directory(\n",
    "    train_dir,\n",
    "    target_size=IMG_SIZE,\n",
    "    batch_size=BATCH_SIZE,\n",
    "    class_mode='categorical'\n",
    ")\n",
    "\n",
    "val_gen = val_datagen.flow_from_directory(\n",
    "    val_dir,\n",
    "    target_size=IMG_SIZE,\n",
    "    batch_size=BATCH_SIZE,\n",
    "    class_mode='categorical'\n",
    ")\n",
    "\n",
    "test_gen = test_datagen.flow_from_directory(\n",
    "    test_dir,\n",
    "    target_size=IMG_SIZE,\n",
    "    batch_size=BATCH_SIZE,\n",
    "    class_mode='categorical',\n",
    "    shuffle=False\n",
    ")\n"
   ]
  },
  {
   "cell_type": "code",
   "execution_count": null,
   "id": "a3b38055-53a1-4949-b9d4-339cfd451e45",
   "metadata": {},
   "outputs": [],
   "source": [
    "# Step 4: Build Model using Transfer Learning (EfficientNetB0)\n",
    "base_model = EfficientNetB0(weights=\"imagenet\", include_top=False, input_shape=(224,224,3))\n",
    "\n",
    "# Freeze base layers\n",
    "base_model.trainable = False\n",
    "\n",
    "model = Sequential([\n",
    "    base_model,\n",
    "    GlobalAveragePooling2D(),\n",
    "    Dropout(0.3),\n",
    "    Dense(128, activation='relu'),\n",
    "    Dropout(0.2),\n",
    "    Dense(train_gen.num_classes, activation='softmax')\n",
    "])\n",
    "\n",
    "model.compile(optimizer='adam', loss='categorical_crossentropy', metrics=['accuracy'])\n",
    "model.summary()\n"
   ]
  },
  {
   "cell_type": "code",
   "execution_count": null,
   "id": "c3f5465a-2fc5-4c69-848e-c18d8e6b0d8f",
   "metadata": {},
   "outputs": [],
   "source": [
    "# Step 5: Train Model\n",
    "early_stop = EarlyStopping(monitor='val_loss', patience=5, restore_best_weights=True)\n",
    "checkpoint = ModelCheckpoint(\"best_model.h5\", save_best_only=True)\n",
    "\n",
    "history = model.fit(\n",
    "    train_gen,\n",
    "    validation_data=val_gen,\n",
    "    epochs=20,\n",
    "    callbacks=[early_stop, checkpoint]\n",
    ")\n"
   ]
  },
  {
   "cell_type": "code",
   "execution_count": null,
   "id": "8c113cd5-eb9b-4956-9935-1908c09d5b8e",
   "metadata": {},
   "outputs": [],
   "source": [
    "# Step 6: Evaluate Model\n",
    "loss, acc = model.evaluate(test_gen)\n",
    "print(f\"Test Accuracy: {acc*100:.2f}%\")\n",
    "\n",
    "# Plot training history\n",
    "plt.figure(figsize=(10,5))\n",
    "plt.plot(history.history['accuracy'], label='Train Acc')\n",
    "plt.plot(history.history['val_accuracy'], label='Val Acc')\n",
    "plt.xlabel(\"Epochs\")\n",
    "plt.ylabel(\"Accuracy\")\n",
    "plt.legend()\n",
    "plt.show()\n"
   ]
  },
  {
   "cell_type": "code",
   "execution_count": null,
   "id": "2e3b51d0-0862-49f0-bfbe-c57fea7ba4f7",
   "metadata": {},
   "outputs": [],
   "source": [
    "# Step 7: Make Predictions on Test Images\n",
    "from sklearn.metrics import classification_report, confusion_matrix\n",
    "\n",
    "y_pred = model.predict(test_gen)\n",
    "y_pred_classes = np.argmax(y_pred, axis=1)\n",
    "y_true = test_gen.classes\n",
    "\n",
    "print(classification_report(y_true, y_pred_classes, target_names=list(test_gen.class_indices.keys())))\n",
    "\n",
    "# Confusion Matrix\n",
    "cm = confusion_matrix(y_true, y_pred_classes)\n",
    "plt.figure(figsize=(12,10))\n",
    "sns.heatmap(cm, annot=False, cmap=\"Blues\")\n",
    "plt.title(\"Confusion Matrix\")\n",
    "plt.show()\n"
   ]
  },
  {
   "cell_type": "code",
   "execution_count": null,
   "id": "475f9b6e-1e5d-4a95-85ac-a16ec066f36b",
   "metadata": {},
   "outputs": [],
   "source": [
    "# Step 8: Predict on a New Image\n",
    "from tensorflow.keras.preprocessing import image\n",
    "\n",
    "img_path = \"sample_leaf.jpg\"  # Replace with your test image path\n",
    "img = image.load_img(img_path, target_size=IMG_SIZE)\n",
    "img_array = image.img_to_array(img)/255.0\n",
    "img_array = np.expand_dims(img_array, axis=0)\n",
    "\n",
    "pred = model.predict(img_array)\n",
    "pred_class = np.argmax(pred)\n",
    "class_labels = list(train_gen.class_indices.keys())\n",
    "\n",
    "print(\"Predicted Class:\", class_labels[pred_class])\n"
   ]
  },
  {
   "cell_type": "code",
   "execution_count": null,
   "id": "844867b5-b8d3-4c8b-b24a-d05bc7e41910",
   "metadata": {},
   "outputs": [],
   "source": []
  },
  {
   "cell_type": "code",
   "execution_count": null,
   "id": "74e790b9-7792-4574-be13-92c6b1aa45d8",
   "metadata": {},
   "outputs": [],
   "source": []
  },
  {
   "cell_type": "code",
   "execution_count": null,
   "id": "e5600d5e-28b2-401a-aee8-08e0392d7915",
   "metadata": {},
   "outputs": [],
   "source": []
  },
  {
   "cell_type": "code",
   "execution_count": null,
   "id": "e503bb35-e33f-48c5-a53b-6aede938344b",
   "metadata": {},
   "outputs": [],
   "source": []
  },
  {
   "cell_type": "code",
   "execution_count": null,
   "id": "eb427e5e-b6a6-4d2c-980a-ffc72e9432cf",
   "metadata": {},
   "outputs": [],
   "source": []
  },
  {
   "cell_type": "code",
   "execution_count": null,
   "id": "7f308674-dfc6-44bc-86ab-fc281ba3410f",
   "metadata": {},
   "outputs": [],
   "source": []
  }
 ],
 "metadata": {
  "kernelspec": {
   "display_name": "Python 3 (ipykernel)",
   "language": "python",
   "name": "python3"
  },
  "language_info": {
   "codemirror_mode": {
    "name": "ipython",
    "version": 3
   },
   "file_extension": ".py",
   "mimetype": "text/x-python",
   "name": "python",
   "nbconvert_exporter": "python",
   "pygments_lexer": "ipython3",
   "version": "3.13.7"
  }
 },
 "nbformat": 4,
 "nbformat_minor": 5
}
